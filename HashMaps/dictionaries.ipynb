{
 "cells": [
  {
   "cell_type": "code",
   "execution_count": 1,
   "metadata": {},
   "outputs": [
    {
     "name": "stdout",
     "output_type": "stream",
     "text": [
      "{'agrim': 1, 'gupta': 2, 'hello': 'world'}\n"
     ]
    }
   ],
   "source": [
    "d = {\"agrim\" : 1, \"gupta\":2 , \"hello\" : \"world\"}\n",
    "print(d)"
   ]
  },
  {
   "cell_type": "code",
   "execution_count": 2,
   "metadata": {},
   "outputs": [
    {
     "name": "stdout",
     "output_type": "stream",
     "text": [
      "{'agrim': 1, 'gupta': 2, 'hello': 'world', 'john': 'doe'}\n"
     ]
    }
   ],
   "source": [
    "#adding:\n",
    "d[\"john\"] = \"doe\"\n",
    "print(d)"
   ]
  },
  {
   "cell_type": "code",
   "execution_count": 3,
   "metadata": {},
   "outputs": [
    {
     "name": "stdout",
     "output_type": "stream",
     "text": [
      "doe\n"
     ]
    }
   ],
   "source": [
    "#value corresponds to key\n",
    "print(d[\"john\"])"
   ]
  },
  {
   "cell_type": "code",
   "execution_count": 5,
   "metadata": {},
   "outputs": [
    {
     "name": "stdout",
     "output_type": "stream",
     "text": [
      "key: agrim, value: 1\n",
      "key: gupta, value: 2\n",
      "key: hello, value: world\n",
      "key: john, value: doe\n"
     ]
    }
   ],
   "source": [
    "#loop over key:value pairs O(n)\n",
    "for key,val in d.items():\n",
    "    print(f\"key: {key}, value: {val}\")"
   ]
  },
  {
   "cell_type": "code",
   "execution_count": 7,
   "metadata": {},
   "outputs": [
    {
     "data": {
      "text/plain": [
       "defaultdict(int, {2: 0})"
      ]
     },
     "execution_count": 7,
     "metadata": {},
     "output_type": "execute_result"
    }
   ],
   "source": [
    "#defaultDict\n",
    "from collections import defaultdict\n",
    "default = defaultdict(int)\n",
    "default[2]\n",
    "default"
   ]
  },
  {
   "cell_type": "code",
   "execution_count": 9,
   "metadata": {},
   "outputs": [
    {
     "name": "stdout",
     "output_type": "stream",
     "text": [
      "Counter({'e': 6, 'b': 5, 'c': 5, 'd': 5, 'a': 4})\n"
     ]
    }
   ],
   "source": [
    "from collections import Counter\n",
    "\n",
    "test_str = \"aaaabbbbbccccceeeeeeddddd\"\n",
    "c = Counter(test_str)\n",
    "print(c)"
   ]
  }
 ],
 "metadata": {
  "kernelspec": {
   "display_name": "Python 3",
   "language": "python",
   "name": "python3"
  },
  "language_info": {
   "codemirror_mode": {
    "name": "ipython",
    "version": 3
   },
   "file_extension": ".py",
   "mimetype": "text/x-python",
   "name": "python",
   "nbconvert_exporter": "python",
   "pygments_lexer": "ipython3",
   "version": "3.11.2"
  }
 },
 "nbformat": 4,
 "nbformat_minor": 2
}
