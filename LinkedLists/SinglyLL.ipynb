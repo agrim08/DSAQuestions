{
 "cells": [
  {
   "cell_type": "code",
   "execution_count": 6,
   "metadata": {},
   "outputs": [],
   "source": [
    "class SinglyNode:\n",
    "    def __init__(self, val , next=None):\n",
    "        self.val = val\n",
    "        self.next = next\n",
    "    def __str__(self):\n",
    "        return str(self.val)"
   ]
  },
  {
   "cell_type": "code",
   "execution_count": 7,
   "metadata": {},
   "outputs": [
    {
     "name": "stdout",
     "output_type": "stream",
     "text": [
      "1\n"
     ]
    }
   ],
   "source": [
    "Head = SinglyNode(1)\n",
    "A = SinglyNode(3)\n",
    "B = SinglyNode(5)\n",
    "C = SinglyNode(7)\n",
    "\n",
    "Head.next = A\n",
    "A.next = B\n",
    "B.next = C\n",
    "print(Head)"
   ]
  },
  {
   "cell_type": "code",
   "execution_count": 9,
   "metadata": {},
   "outputs": [
    {
     "name": "stdout",
     "output_type": "stream",
     "text": [
      "1\n",
      "3\n",
      "5\n",
      "7\n"
     ]
    }
   ],
   "source": [
    "#Traversing\n",
    "curr = Head\n",
    "\n",
    "while curr:\n",
    "    print(curr)\n",
    "    curr = curr.next"
   ]
  },
  {
   "cell_type": "code",
   "execution_count": 10,
   "metadata": {},
   "outputs": [
    {
     "name": "stdout",
     "output_type": "stream",
     "text": [
      "1-> 3-> 5-> 7\n"
     ]
    }
   ],
   "source": [
    "def printLinkedList(head):\n",
    "    curr = head\n",
    "    elements = []\n",
    "    while curr:\n",
    "        elements.append(str(curr.val))\n",
    "        curr = curr.next\n",
    "    \n",
    "    print (\"-> \".join(elements))\n",
    "\n",
    "printLinkedList(Head)\n",
    "\n"
   ]
  },
  {
   "cell_type": "code",
   "execution_count": 13,
   "metadata": {},
   "outputs": [
    {
     "name": "stdout",
     "output_type": "stream",
     "text": [
      "False\n"
     ]
    }
   ],
   "source": [
    "# Search\n",
    "\n",
    "def Search(val , head ):\n",
    "    curr = head\n",
    "    while curr:\n",
    "        if curr.val == val:\n",
    "            return True\n",
    "        curr = curr.next\n",
    "    return False\n",
    "\n",
    "print(Search(10,Head))"
   ]
  },
  {
   "cell_type": "code",
   "execution_count": null,
   "metadata": {},
   "outputs": [],
   "source": []
  }
 ],
 "metadata": {
  "kernelspec": {
   "display_name": "Python 3",
   "language": "python",
   "name": "python3"
  },
  "language_info": {
   "codemirror_mode": {
    "name": "ipython",
    "version": 3
   },
   "file_extension": ".py",
   "mimetype": "text/x-python",
   "name": "python",
   "nbconvert_exporter": "python",
   "pygments_lexer": "ipython3",
   "version": "3.11.2"
  }
 },
 "nbformat": 4,
 "nbformat_minor": 2
}
